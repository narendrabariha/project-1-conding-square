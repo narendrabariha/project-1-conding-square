{
 "cells": [
  {
   "cell_type": "markdown",
   "id": "2e980868",
   "metadata": {},
   "source": [
    "#                                          Project 1:"
   ]
  },
  {
   "cell_type": "code",
   "execution_count": 1,
   "id": "e7604e68",
   "metadata": {},
   "outputs": [],
   "source": [
    "distance_traveled_km = 250\n",
    "initial_odometer_reading_km = 531525\n",
    "price_per_liter_rs = 95\n",
    "total_liters = 10\n",
    "efficiency_km_per_liter = 13"
   ]
  },
  {
   "cell_type": "markdown",
   "id": "73ca0cf4",
   "metadata": {},
   "source": [
    "## Mileage"
   ]
  },
  {
   "cell_type": "code",
   "execution_count": 12,
   "id": "dd2fd862",
   "metadata": {},
   "outputs": [],
   "source": [
    "mileage = (distance_traveled_km / total_liters)"
   ]
  },
  {
   "cell_type": "code",
   "execution_count": 13,
   "id": "316a732a",
   "metadata": {},
   "outputs": [
    {
     "name": "stdout",
     "output_type": "stream",
     "text": [
      "25.0 km/l\n"
     ]
    }
   ],
   "source": [
    "print((mileage),'km/l' )"
   ]
  },
  {
   "cell_type": "markdown",
   "id": "e4dfe448",
   "metadata": {},
   "source": [
    "## Average"
   ]
  },
  {
   "cell_type": "code",
   "execution_count": 14,
   "id": "c8babf15",
   "metadata": {},
   "outputs": [],
   "source": [
    "mileage = [25, 30, 40, 35, 80, 75]"
   ]
  },
  {
   "cell_type": "code",
   "execution_count": 15,
   "id": "2e58b251",
   "metadata": {},
   "outputs": [],
   "source": [
    "average = sum(mileage) / len(mileage)"
   ]
  },
  {
   "cell_type": "code",
   "execution_count": 17,
   "id": "2b5e253a",
   "metadata": {},
   "outputs": [
    {
     "name": "stdout",
     "output_type": "stream",
     "text": [
      "47.5 km/l\n"
     ]
    }
   ],
   "source": [
    "print((average),'km/l')"
   ]
  },
  {
   "cell_type": "code",
   "execution_count": null,
   "id": "a772af72",
   "metadata": {},
   "outputs": [],
   "source": []
  }
 ],
 "metadata": {
  "kernelspec": {
   "display_name": "Python 3 (ipykernel)",
   "language": "python",
   "name": "python3"
  },
  "language_info": {
   "codemirror_mode": {
    "name": "ipython",
    "version": 3
   },
   "file_extension": ".py",
   "mimetype": "text/x-python",
   "name": "python",
   "nbconvert_exporter": "python",
   "pygments_lexer": "ipython3",
   "version": "3.10.9"
  }
 },
 "nbformat": 4,
 "nbformat_minor": 5
}
